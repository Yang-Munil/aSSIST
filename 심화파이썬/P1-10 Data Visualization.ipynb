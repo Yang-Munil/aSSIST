{
 "cells": [
  {
   "cell_type": "markdown",
   "metadata": {},
   "source": [
    "# 데이터 시각화"
   ]
  },
  {
   "cell_type": "markdown",
   "metadata": {},
   "source": [
    "### 실습 데이터셋 준비"
   ]
  },
  {
   "cell_type": "code",
   "execution_count": null,
   "metadata": {},
   "outputs": [],
   "source": [
    "# 관련 라이브러리를 호출합니다.\n",
    "import os, chardet\n",
    "import numpy as np\n",
    "import pandas as pd"
   ]
  },
  {
   "cell_type": "code",
   "execution_count": null,
   "metadata": {},
   "outputs": [],
   "source": [
    "# 현잭 작업경로를 확인합니다.\n",
    "os.getcwd()"
   ]
  },
  {
   "cell_type": "code",
   "execution_count": null,
   "metadata": {},
   "outputs": [],
   "source": [
    "# data 폴더로 작업경로를 변경합니다.\n",
    "os.chdir(path = '../data')"
   ]
  },
  {
   "cell_type": "code",
   "execution_count": null,
   "metadata": {},
   "outputs": [],
   "source": [
    "# 현재 작업경로에 저장된 폴더명과 파일명을 출력합니다.\n",
    "os.listdir()"
   ]
  },
  {
   "cell_type": "code",
   "execution_count": null,
   "metadata": {},
   "outputs": [],
   "source": [
    "# csv 파일명을 fileName에 할당합니다.\n",
    "fileName = 'APT_List_Seoul_2020.csv'"
   ]
  },
  {
   "cell_type": "code",
   "execution_count": null,
   "metadata": {},
   "outputs": [],
   "source": [
    "# csv 파일을 바이너리로 읽습니다.\n",
    "raw = open(file = fileName, mode = 'rb').read()"
   ]
  },
  {
   "cell_type": "code",
   "execution_count": null,
   "metadata": {},
   "outputs": [],
   "source": [
    "# 텍스트 파일의 문자 인코딩 방식을 확인합니다.\n",
    "chardet.detect(raw[:100])"
   ]
  },
  {
   "cell_type": "code",
   "execution_count": null,
   "metadata": {},
   "outputs": [],
   "source": [
    "# csv 파일을 읽고 데이터프레임을 생성합니다.\n",
    "apt = pd.read_csv(filepath_or_buffer = fileName, parse_dates = ['거래일'])"
   ]
  },
  {
   "cell_type": "code",
   "execution_count": null,
   "metadata": {},
   "outputs": [],
   "source": [
    "# apt의 처음 5행을 출력합니다.\n",
    "apt.head()"
   ]
  },
  {
   "cell_type": "code",
   "execution_count": null,
   "metadata": {
    "scrolled": false
   },
   "outputs": [],
   "source": [
    "# apt의 정보를 확인합니다.\n",
    "apt.info()"
   ]
  },
  {
   "cell_type": "markdown",
   "metadata": {},
   "source": [
    "### 관련 라이브러리 호출 및 그래픽 옵션 설정"
   ]
  },
  {
   "cell_type": "code",
   "execution_count": null,
   "metadata": {},
   "outputs": [],
   "source": [
    "# 관련 라이브러리를 호출합니다.\n",
    "import seaborn as sns\n",
    "import matplotlib.pyplot as plt\n",
    "import matplotlib.font_manager as fm\n",
    "%matplotlib inline"
   ]
  },
  {
   "cell_type": "code",
   "execution_count": null,
   "metadata": {},
   "outputs": [],
   "source": [
    "# 그래프의 크기 및 해상도를 설정합니다.\n",
    "plt.rc(group = 'figure', figsize = (6, 6), dpi = 100)"
   ]
  },
  {
   "cell_type": "code",
   "execution_count": null,
   "metadata": {},
   "outputs": [],
   "source": [
    "# 선 굵기 및 스타일을 설정합니다.\n",
    "plt.rc(group = 'lines', linewidth = 0.5, linestyle = '-')"
   ]
  },
  {
   "cell_type": "code",
   "execution_count": null,
   "metadata": {},
   "outputs": [],
   "source": [
    "# 한글폰트 및 글자 크기를 설정합니다.\n",
    "plt.rc(group = 'font', family = 'Gamja Flower', size = 10)"
   ]
  },
  {
   "cell_type": "code",
   "execution_count": null,
   "metadata": {},
   "outputs": [],
   "source": [
    "# 한글폰트에 마이너스 기호가 없으므로, 축에 출력되지 않도록 설정합니다.\n",
    "plt.rc(group = 'axes', unicode_minus = False)"
   ]
  },
  {
   "cell_type": "markdown",
   "metadata": {},
   "source": [
    "### [참고] 한글폰트명 찾는 법"
   ]
  },
  {
   "cell_type": "code",
   "execution_count": null,
   "metadata": {},
   "outputs": [],
   "source": [
    "# 현재 사용 중인 컴퓨터에 설치된 폰트 파일을 탐색하고 리스트로 반환합니다.\n",
    "fontList = fm.findSystemFonts(fontext = 'ttf')"
   ]
  },
  {
   "cell_type": "code",
   "execution_count": null,
   "metadata": {},
   "outputs": [],
   "source": [
    "# 폰트명으로 한글폰트 파일을 선택합니다.\n",
    "fontPath = [font for font in fontList if 'Gamja' in font]"
   ]
  },
  {
   "cell_type": "code",
   "execution_count": null,
   "metadata": {},
   "outputs": [],
   "source": [
    "# 한글폰트 파일을 원소로 갖는 리스트를 오름차순으로 정렬합니다.\n",
    "fontPath.sort()"
   ]
  },
  {
   "cell_type": "code",
   "execution_count": null,
   "metadata": {},
   "outputs": [],
   "source": [
    "# 반복문으로 한글폰트명을 출력하고, 마음에 드는 폰트명을 선택합니다.\n",
    "for i in range(len(fontPath)):\n",
    "    print(fm.FontProperties(fname = fontPath[i]).get_name())"
   ]
  },
  {
   "cell_type": "markdown",
   "metadata": {},
   "source": [
    "### [참고] 한글이 네모로 출력되는 에러 해결 방법"
   ]
  },
  {
   "cell_type": "raw",
   "metadata": {},
   "source": [
    "# 관련 라이브러리를 호출합니다.\n",
    "import matplotlib, glob"
   ]
  },
  {
   "cell_type": "raw",
   "metadata": {},
   "source": [
    "# matplotlib 라이브러리의 임시 폴더의 경로를 path로 생성합니다.\n",
    "path = matplotlib.get_cachedir()"
   ]
  },
  {
   "cell_type": "raw",
   "metadata": {},
   "source": [
    "# 폰트 목록을 담고 있는 JSON 파일명을 file로 생성합니다.\n",
    "file = glob.glob(pathname = f'{path}/fontlist-*.json')[0]"
   ]
  },
  {
   "cell_type": "raw",
   "metadata": {},
   "source": [
    "# matplotlib 라이브러리의 임시 폴더에 있는 JSON 파일을 삭제합니다.\n",
    "os.remove(path = file)"
   ]
  },
  {
   "cell_type": "markdown",
   "metadata": {},
   "source": [
    "### 그래픽 파라미터 설정 관련 모듈 생성"
   ]
  },
  {
   "cell_type": "code",
   "execution_count": null,
   "metadata": {},
   "outputs": [],
   "source": [
    "# 관련 모듈을 호출합니다.\n",
    "from GraphicSetting import *"
   ]
  },
  {
   "cell_type": "markdown",
   "metadata": {},
   "source": [
    "### 히스토그램 그리기"
   ]
  },
  {
   "cell_type": "code",
   "execution_count": null,
   "metadata": {},
   "outputs": [],
   "source": [
    "# 거래금액의 최솟값과 최댓값을 확인합니다.\n",
    "apt['거래금액'].describe()[['min', 'max']]"
   ]
  },
  {
   "cell_type": "code",
   "execution_count": null,
   "metadata": {},
   "outputs": [],
   "source": [
    "# 히스토그램 계급(막대의 경계)을 설정합니다.\n",
    "bins = np.arange(start = 0, stop = 80, step = 2)"
   ]
  },
  {
   "cell_type": "code",
   "execution_count": null,
   "metadata": {},
   "outputs": [],
   "source": [
    "# 히스토그램 계급을 출력합니다.\n",
    "bins"
   ]
  },
  {
   "cell_type": "code",
   "execution_count": null,
   "metadata": {},
   "outputs": [],
   "source": [
    "# 히스토그램은 일변량 연속형 변수의 분포를 시각화한 것입니다.\n",
    "sns.histplot(data = apt, x = '거래금액', bins = bins, color = '0.5');"
   ]
  },
  {
   "cell_type": "markdown",
   "metadata": {},
   "source": [
    "### 히스토그램에 KDE 밀도 곡선 추가"
   ]
  },
  {
   "cell_type": "code",
   "execution_count": null,
   "metadata": {},
   "outputs": [],
   "source": [
    "# 히스토그램의 y축을 빈도수 대신 밀도로 변경합니다.\n",
    "sns.histplot(data = apt, x = '거래금액', bins = bins, color = '1', stat = 'density')\n",
    "\n",
    "# 히스토그램에 KDE 밀도 곡선을 추가합니다.\n",
    "sns.kdeplot(data = apt, x = '거래금액', color = 'red', linewidth = 1.5);"
   ]
  },
  {
   "cell_type": "markdown",
   "metadata": {},
   "source": [
    "### [참고] matplotlib CSS Colors"
   ]
  },
  {
   "cell_type": "code",
   "execution_count": null,
   "metadata": {},
   "outputs": [],
   "source": [
    "# 관련 라이브러리를 호출합니다.\n",
    "import matplotlib.colors as mcolors"
   ]
  },
  {
   "cell_type": "code",
   "execution_count": null,
   "metadata": {
    "scrolled": true
   },
   "outputs": [],
   "source": [
    "# CSS Color 목록을 출력합니다.\n",
    "mcolors.CSS4_COLORS"
   ]
  },
  {
   "cell_type": "markdown",
   "metadata": {},
   "source": [
    "### 히스토그램을 겹쳐서 그리기"
   ]
  },
  {
   "cell_type": "code",
   "execution_count": null,
   "metadata": {},
   "outputs": [],
   "source": [
    "# 관심 있는 자치구 3개를 선택하여 top3를 생성합니다.\n",
    "top3 = apt[apt['자치구'].str.contains(pat = '강남|서초|송파')].copy()"
   ]
  },
  {
   "cell_type": "code",
   "execution_count": null,
   "metadata": {},
   "outputs": [],
   "source": [
    "# 거래금액의 최솟값과 최댓값을 확인합니다.\n",
    "top3['거래금액'].describe()[['min', 'max']]"
   ]
  },
  {
   "cell_type": "code",
   "execution_count": null,
   "metadata": {},
   "outputs": [],
   "source": [
    "# 히스토그램 계급을 설정합니다.\n",
    "bins = np.arange(start = 0, stop = 68, step = 1)"
   ]
  },
  {
   "cell_type": "code",
   "execution_count": null,
   "metadata": {},
   "outputs": [],
   "source": [
    "# 특정 변수의 값에 따라 히스토그램의 색을 다르게 겹쳐서 그립니다.\n",
    "sns.histplot(data = top3, x = '거래금액', bins = bins, \n",
    "             hue = '자치구', palette = 'Dark2');"
   ]
  },
  {
   "cell_type": "markdown",
   "metadata": {},
   "source": [
    "### 히스토그램을 나눠서 그리기"
   ]
  },
  {
   "cell_type": "code",
   "execution_count": null,
   "metadata": {},
   "outputs": [],
   "source": [
    "# 특정 변수의 값에 따라 히스토그램을 가로 방향으로 나눠서 그립니다.\n",
    "sns.displot(data = top3, x = '거래금액', bins = bins, hue = '자치구', \n",
    "            palette = 'Dark2', col = '자치구', legend = False);"
   ]
  },
  {
   "cell_type": "code",
   "execution_count": null,
   "metadata": {},
   "outputs": [],
   "source": [
    "# 특정 변수의 값에 따라 히스토그램을 세로 방향으로 나눠서 그립니다.\n",
    "sns.displot(data = top3, x = '거래금액', bins = bins, hue = '자치구', \n",
    "            palette = 'Dark2', row = '자치구', legend = False);"
   ]
  },
  {
   "cell_type": "markdown",
   "metadata": {},
   "source": [
    "### [참고] 컬러맵(팔레트) 목록 및 색상 확인"
   ]
  },
  {
   "cell_type": "code",
   "execution_count": null,
   "metadata": {},
   "outputs": [],
   "source": [
    "# pyplot 모듈에서 제공되는 컬러맵 목록을 출력합니다.\n",
    "dir(plt.cm)"
   ]
  },
  {
   "cell_type": "code",
   "execution_count": null,
   "metadata": {},
   "outputs": [],
   "source": [
    "# 기본 팔레트의 색을 출력합니다.\n",
    "sns.color_palette(palette = 'tab10')"
   ]
  },
  {
   "cell_type": "code",
   "execution_count": null,
   "metadata": {},
   "outputs": [],
   "source": [
    "# 관심 있는 팔레트의 색을 출력합니다.\n",
    "sns.color_palette(palette = 'Spectral')"
   ]
  },
  {
   "cell_type": "code",
   "execution_count": null,
   "metadata": {},
   "outputs": [],
   "source": [
    "# 출력할 색의 개수를 설정합니다.\n",
    "sns.color_palette(palette = 'Spectral', n_colors = 10)"
   ]
  },
  {
   "cell_type": "markdown",
   "metadata": {},
   "source": [
    "### [참고] 사용자 팔레트 생성"
   ]
  },
  {
   "cell_type": "code",
   "execution_count": null,
   "metadata": {},
   "outputs": [],
   "source": [
    "# 색이름을 리스트로 생성합니다.\n",
    "colors = ['skyblue', 'orange', 'purple']"
   ]
  },
  {
   "cell_type": "code",
   "execution_count": null,
   "metadata": {},
   "outputs": [],
   "source": [
    "# 색이름 리스트로 사용자 팔레트를 생성합니다.\n",
    "myPal = sns.set_palette(palette = colors)"
   ]
  },
  {
   "cell_type": "code",
   "execution_count": null,
   "metadata": {},
   "outputs": [],
   "source": [
    "# 기존 그래프에 사용자 팔레트를 적용합니다.\n",
    "sns.displot(data = top3, x = '거래금액', bins = bins, hue = '자치구', \n",
    "            palette = myPal, col = '자치구', legend = False);"
   ]
  },
  {
   "cell_type": "markdown",
   "metadata": {},
   "source": [
    "### 상자 수염 그림 그리기"
   ]
  },
  {
   "cell_type": "code",
   "execution_count": null,
   "metadata": {},
   "outputs": [],
   "source": [
    "# 일변량 연속형 변수인 거래금액으로 상자 수염 그림을 그립니다.\n",
    "sns.boxplot(data = apt, y = '거래금액', color = 'gold', fliersize = 4)\n",
    "plt.title(label = '거래금액 상자 수염 그림');"
   ]
  },
  {
   "cell_type": "markdown",
   "metadata": {},
   "source": [
    "### 집단별 상자 수염 그림 그리기"
   ]
  },
  {
   "cell_type": "code",
   "execution_count": null,
   "metadata": {},
   "outputs": [],
   "source": [
    "# 자치구를 x축, 거래금액을 y축에 놓고 집단별 상자 수염 그림을 그립니다.\n",
    "sns.boxplot(data = apt, x = '자치구', y = '거래금액')\n",
    "plt.xticks(rotation = 45);"
   ]
  },
  {
   "cell_type": "code",
   "execution_count": null,
   "metadata": {},
   "outputs": [],
   "source": [
    "# 자치구별 거래금액의 중위수를 오름차순으로 정렬한 sigg를 생성합니다.\n",
    "sigg = apt.groupby(by = ['자치구']).median()['거래금액'].sort_values()"
   ]
  },
  {
   "cell_type": "code",
   "execution_count": null,
   "metadata": {},
   "outputs": [],
   "source": [
    "# 집단별 상자 수염 그림의 순서를 sigg의 인덱스로 지정합니다.\n",
    "sns.boxplot(data = apt, x = '자치구', y = '거래금액', order = sigg.index)\n",
    "plt.xticks(rotation = 45);"
   ]
  },
  {
   "cell_type": "markdown",
   "metadata": {},
   "source": [
    "### 일변량 막대그래프 그리기"
   ]
  },
  {
   "cell_type": "code",
   "execution_count": null,
   "metadata": {},
   "outputs": [],
   "source": [
    "# 일변량 막대그래프는 범주형 변수의 빈도수를 막대로 시각화한 것입니다.\n",
    "sns.countplot(data = apt, x = '자치구')\n",
    "plt.xticks(rotation = 45);"
   ]
  },
  {
   "cell_type": "code",
   "execution_count": null,
   "metadata": {},
   "outputs": [],
   "source": [
    "# 금액구분 기준으로 자치구별 빈도수를 계산하여 막대그래프를 그립니다.\n",
    "sns.countplot(data = apt, x = '자치구', hue = '금액구분')\n",
    "plt.xticks(rotation = 45);"
   ]
  },
  {
   "cell_type": "markdown",
   "metadata": {},
   "source": [
    "### 이변량 막대그래프용 데이터프레임 생성"
   ]
  },
  {
   "cell_type": "code",
   "execution_count": null,
   "metadata": {},
   "outputs": [],
   "source": [
    "# 집계함수로 자치구별 평균 거래금액을 데이터프레임으로 생성합니다.\n",
    "siggAvg = apt.groupby(by = ['자치구']).mean()[['거래금액']]\n",
    "siggAvg.columns = ['평균금액']\n",
    "siggAvg['평균금액'] = siggAvg['평균금액'].round(1)\n",
    "siggAvg = siggAvg.sort_values(by = ['평균금액'], ascending = False)\n",
    "siggAvg = siggAvg.reset_index()\n",
    "siggAvg.head()"
   ]
  },
  {
   "cell_type": "markdown",
   "metadata": {},
   "source": [
    "### 이변량 막대그래프 그리기"
   ]
  },
  {
   "cell_type": "code",
   "execution_count": null,
   "metadata": {},
   "outputs": [],
   "source": [
    "# 이변량 막대그래프는 범주형 변수에 따라 연속형 변수의 크기를 표현합니다.\n",
    "sns.barplot(data = siggAvg, x = '자치구', y = '평균금액')\n",
    "plt.ylim(0, 20)\n",
    "plt.xticks(rotation = 45);"
   ]
  },
  {
   "cell_type": "code",
   "execution_count": null,
   "metadata": {
    "scrolled": false
   },
   "outputs": [],
   "source": [
    "# 막대그래프 위에 숫자를 텍스트로 추가합니다.\n",
    "sns.barplot(data = siggAvg, x = '자치구', y = '평균금액')\n",
    "\n",
    "for index, row in siggAvg.iterrows():\n",
    "    plt.text(x = index, y = row['평균금액'] + 0.2, s = row['평균금액'], \n",
    "             fontsize = 10, ha = 'center', va = 'bottom', c = 'black')\n",
    "\n",
    "plt.ylim(0, 20)\n",
    "plt.xticks(rotation = 45);"
   ]
  },
  {
   "cell_type": "markdown",
   "metadata": {},
   "source": [
    "### 선그래프 그리기"
   ]
  },
  {
   "cell_type": "code",
   "execution_count": null,
   "metadata": {},
   "outputs": [],
   "source": [
    "R"
   ]
  },
  {
   "cell_type": "code",
   "execution_count": null,
   "metadata": {},
   "outputs": [],
   "source": [
    "# apt의 처음 5행을 출력합니다.\n",
    "apt.head()"
   ]
  },
  {
   "cell_type": "code",
   "execution_count": null,
   "metadata": {},
   "outputs": [],
   "source": [
    "# 선그래프는 주로 시간의 흐름에 따라 연속형 변수의 변화를 시각화한 것입니다.\n",
    "sns.lineplot(data = apt, x = '거래월', y = '거래금액', ci = None);"
   ]
  },
  {
   "cell_type": "code",
   "execution_count": null,
   "metadata": {},
   "outputs": [],
   "source": [
    "# 점을 추가한 선그래프를 그립니다.\n",
    "sns.pointplot(data = apt, x = '거래월', y = '거래금액', ci = None);"
   ]
  },
  {
   "cell_type": "markdown",
   "metadata": {},
   "source": [
    "### [참고] x축 눈금명 변경"
   ]
  },
  {
   "cell_type": "code",
   "execution_count": null,
   "metadata": {},
   "outputs": [],
   "source": [
    "# x축 눈금명을 생성합니다.\n",
    "months = [f'{str(i)}월' for i in range(1, 13)]\n",
    "months"
   ]
  },
  {
   "cell_type": "code",
   "execution_count": null,
   "metadata": {},
   "outputs": [],
   "source": [
    "# 선그래프에 x축 눈금 위치와 눈금명을 지정합니다.\n",
    "sns.lineplot(data = apt, x = '거래월', y = '거래금액', ci = None)\n",
    "plt.xticks(ticks = range(1, 13), labels = months);"
   ]
  },
  {
   "cell_type": "code",
   "execution_count": null,
   "metadata": {},
   "outputs": [],
   "source": [
    "# 점을 추가한 선그래프는 눈금 시작 위치가 다릅니다.\n",
    "sns.pointplot(data = apt, x = '거래월', y = '거래금액', ci = None)\n",
    "plt.xticks(ticks = range(0, 12), labels = months);"
   ]
  },
  {
   "cell_type": "markdown",
   "metadata": {},
   "source": [
    "### 선그래프를 겹쳐서 그리기"
   ]
  },
  {
   "cell_type": "code",
   "execution_count": null,
   "metadata": {},
   "outputs": [],
   "source": [
    "# top3에 거래월을 추가합니다.\n",
    "top3['거래월'] = top3['거래일'].dt.month"
   ]
  },
  {
   "cell_type": "code",
   "execution_count": null,
   "metadata": {},
   "outputs": [],
   "source": [
    "# 선그래프를 겹쳐서 그립니다.\n",
    "sns.lineplot(data = top3, x = '거래월', y = '거래금액', ci = None, \n",
    "             hue = '자치구', palette = 'Dark2')\n",
    "plt.xticks(ticks = range(1, 13), labels = months);"
   ]
  },
  {
   "cell_type": "markdown",
   "metadata": {},
   "source": [
    "### 선그래프를 나눠서 그리기"
   ]
  },
  {
   "cell_type": "code",
   "execution_count": null,
   "metadata": {},
   "outputs": [],
   "source": [
    "# 특정 변수의 값에 따라 선그래프를 나눠서 그립니다.\n",
    "sns.relplot(data = top3, x = '거래월', y = '거래금액', ci = None, \n",
    "            hue = '자치구', palette = 'Dark2', legend = False, \n",
    "            col = '자치구', kind = 'line')\n",
    "plt.xticks(ticks = range(1, 13), labels = months);"
   ]
  },
  {
   "cell_type": "markdown",
   "metadata": {},
   "source": [
    "### 산점도 그리기"
   ]
  },
  {
   "cell_type": "code",
   "execution_count": null,
   "metadata": {},
   "outputs": [],
   "source": [
    "# 산점도는 이변량 연속형 변수 간 상관관계를 시각화한 것입니다.\n",
    "sns.scatterplot(data = apt, x = '전용면적', y = '거래금액', \n",
    "                color = '0.8', edgecolor = 'black', linewidth = 0.5);"
   ]
  },
  {
   "cell_type": "code",
   "execution_count": null,
   "metadata": {
    "scrolled": false
   },
   "outputs": [],
   "source": [
    "# 산점도에 회귀직선을 추가한 그래프를 그립니다.\n",
    "sns.regplot(data = apt, x = '전용면적', y = '거래금액', \n",
    "            scatter_kws = {'color': '0.8', 'edgecolor': 'black'},  \n",
    "            line_kws = {'color': 'red', 'linewidth': 1.5});"
   ]
  },
  {
   "cell_type": "markdown",
   "metadata": {},
   "source": [
    "### 산점도를 겹쳐서 또는 나눠서 그리기"
   ]
  },
  {
   "cell_type": "code",
   "execution_count": null,
   "metadata": {},
   "outputs": [],
   "source": [
    "# 특정 변수의 값에 따라 산점도를 겹쳐서 그립니다.\n",
    "sns.scatterplot(data = top3, x = '전용면적', y = '거래금액', \n",
    "                edgecolor = 'white', linewidth = 0.5, \n",
    "                hue = '자치구', palette = 'Dark2');"
   ]
  },
  {
   "cell_type": "code",
   "execution_count": null,
   "metadata": {},
   "outputs": [],
   "source": [
    "# 특정 변수의 값에 따라 산점도를 나눠서 그립니다.\n",
    "sns.relplot(data = top3, x = '전용면적', y = '거래금액', \n",
    "            hue = '자치구', palette = 'Dark2', legend = False, \n",
    "            col = '자치구', kind = 'scatter');"
   ]
  },
  {
   "cell_type": "markdown",
   "metadata": {},
   "source": [
    "### 산점도 행렬 그리기"
   ]
  },
  {
   "cell_type": "code",
   "execution_count": null,
   "metadata": {},
   "outputs": [],
   "source": [
    "# 산점도 행렬에 포함할 숫자 변수명을 리스트로 생성합니다.(4~5개가 적당)\n",
    "cols = ['자치구', '거래금액', '전용면적', '층', '세대수']"
   ]
  },
  {
   "cell_type": "code",
   "execution_count": null,
   "metadata": {},
   "outputs": [],
   "source": [
    "# 산점도 행렬을 그립니다.\n",
    "sns.pairplot(data = top3[cols], hue = '자치구', palette = 'Dark2');"
   ]
  },
  {
   "cell_type": "code",
   "execution_count": null,
   "metadata": {},
   "outputs": [],
   "source": [
    "# x축 변수와 y축 변수를 설정하면 산점도 행렬이 간결해집니다.\n",
    "sns.pairplot(\n",
    "    data = top3, \n",
    "    x_vars = ['전용면적', '층', '세대수'], \n",
    "    y_vars = ['거래금액'], \n",
    "    hue = '자치구', \n",
    "    palette = 'Dark2'\n",
    ");"
   ]
  },
  {
   "cell_type": "markdown",
   "metadata": {},
   "source": [
    "## End of Document"
   ]
  }
 ],
 "metadata": {
  "kernelspec": {
   "display_name": "Python 3",
   "language": "python",
   "name": "python3"
  },
  "language_info": {
   "codemirror_mode": {
    "name": "ipython",
    "version": 3
   },
   "file_extension": ".py",
   "mimetype": "text/x-python",
   "name": "python",
   "nbconvert_exporter": "python",
   "pygments_lexer": "ipython3",
   "version": "3.7.4"
  },
  "toc": {
   "base_numbering": 1,
   "nav_menu": {},
   "number_sections": true,
   "sideBar": true,
   "skip_h1_title": false,
   "title_cell": "Table of Contents",
   "title_sidebar": "Contents",
   "toc_cell": false,
   "toc_position": {},
   "toc_section_display": true,
   "toc_window_display": false
  },
  "varInspector": {
   "cols": {
    "lenName": 16,
    "lenType": 16,
    "lenVar": 40
   },
   "kernels_config": {
    "python": {
     "delete_cmd_postfix": "",
     "delete_cmd_prefix": "del ",
     "library": "var_list.py",
     "varRefreshCmd": "print(var_dic_list())"
    },
    "r": {
     "delete_cmd_postfix": ") ",
     "delete_cmd_prefix": "rm(",
     "library": "var_list.r",
     "varRefreshCmd": "cat(var_dic_list()) "
    }
   },
   "types_to_exclude": [
    "module",
    "function",
    "builtin_function_or_method",
    "instance",
    "_Feature"
   ],
   "window_display": false
  }
 },
 "nbformat": 4,
 "nbformat_minor": 5
}
